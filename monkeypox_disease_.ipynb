{
  "nbformat": 4,
  "nbformat_minor": 0,
  "metadata": {
    "colab": {
      "provenance": []
    },
    "kernelspec": {
      "name": "python3",
      "display_name": "Python 3"
    },
    "language_info": {
      "name": "python"
    }
  },
  "cells": [
    {
      "cell_type": "code",
      "execution_count": 1,
      "metadata": {
        "id": "I4LR0WUZQxse"
      },
      "outputs": [],
      "source": [
        "import os\n",
        "import numpy as np\n",
        "import tensorflow as tf\n",
        "from tensorflow.keras.preprocessing.image import ImageDataGenerator"
      ]
    },
    {
      "cell_type": "code",
      "source": [
        "from google.colab import drive\n",
        "drive.mount('/content/drive')"
      ],
      "metadata": {
        "colab": {
          "base_uri": "https://localhost:8080/"
        },
        "id": "b-6Mc9g3QyU-",
        "outputId": "2fdc3447-d780-48a8-a5fe-3e75c045e575"
      },
      "execution_count": 2,
      "outputs": [
        {
          "output_type": "stream",
          "name": "stdout",
          "text": [
            "Mounted at /content/drive\n"
          ]
        }
      ]
    },
    {
      "cell_type": "code",
      "source": [
        "# Define directory containing all images\n",
        "data_dir = '/content/drive/MyDrive/Monkeypox Skin Image Dataset'"
      ],
      "metadata": {
        "id": "BDKuOb21Q0JH"
      },
      "execution_count": 4,
      "outputs": []
    },
    {
      "cell_type": "code",
      "source": [
        "img_size = (150, 150)\n",
        "batch_size = 32\n",
        "\n",
        "# Data Augmentation\n",
        "datagen = ImageDataGenerator(\n",
        "    rescale=1./255,\n",
        "    rotation_range=20,\n",
        "    width_shift_range=0.2,\n",
        "    height_shift_range=0.2,\n",
        "    shear_range=0.2,\n",
        "    zoom_range=0.2,\n",
        "    horizontal_flip=True,\n",
        "    fill_mode='nearest'\n",
        ")"
      ],
      "metadata": {
        "id": "0z3LEbfqQ1Jm"
      },
      "execution_count": 5,
      "outputs": []
    },
    {
      "cell_type": "code",
      "source": [
        "# Load Data\n",
        "generator = datagen.flow_from_directory(\n",
        "    data_dir,\n",
        "    target_size=img_size,\n",
        "    batch_size=batch_size,\n",
        "    class_mode='binary',  # because there are only two classes\n",
        "    shuffle=True\n",
        ")"
      ],
      "metadata": {
        "colab": {
          "base_uri": "https://localhost:8080/"
        },
        "id": "wXOalM-kQ2bx",
        "outputId": "0af477ef-d001-437a-eb8b-f3857166b832"
      },
      "execution_count": 6,
      "outputs": [
        {
          "output_type": "stream",
          "name": "stdout",
          "text": [
            "Found 572 images belonging to 2 classes.\n"
          ]
        }
      ]
    },
    {
      "cell_type": "code",
      "source": [
        "# Define class labels\n",
        "class_labels = list(generator.class_indices.keys())\n",
        "\n",
        "# Load pre-trained VGG16 model\n",
        "base_model = tf.keras.applications.VGG16(weights='imagenet', include_top=False, input_shape=(150, 150, 3))\n",
        "\n",
        "# Freeze layers in VGG16\n",
        "for layer in base_model.layers:\n",
        "    layer.trainable = False\n",
        "\n",
        "# Model Definition\n"
      ],
      "metadata": {
        "colab": {
          "base_uri": "https://localhost:8080/"
        },
        "id": "hZyG3cpYQ3l8",
        "outputId": "96b4cc57-b99f-48a9-f021-dedc89d818de"
      },
      "execution_count": 7,
      "outputs": [
        {
          "output_type": "stream",
          "name": "stdout",
          "text": [
            "Downloading data from https://storage.googleapis.com/tensorflow/keras-applications/vgg16/vgg16_weights_tf_dim_ordering_tf_kernels_notop.h5\n",
            "58889256/58889256 [==============================] - 0s 0us/step\n"
          ]
        }
      ]
    },
    {
      "cell_type": "code",
      "source": [
        "model = tf.keras.Sequential([\n",
        "    base_model,\n",
        "    tf.keras.layers.GlobalAveragePooling2D(),  # Replace Flatten with GlobalAveragePooling2D\n",
        "    tf.keras.layers.Dense(512, activation='relu', input_shape=(base_model.output_shape[1],)),\n",
        "    tf.keras.layers.Dropout(0.5),\n",
        "    tf.keras.layers.Dense(1, activation='sigmoid')  # Binary classification\n",
        "])"
      ],
      "metadata": {
        "id": "Z_wJ6UzaQ8J6"
      },
      "execution_count": 8,
      "outputs": []
    },
    {
      "cell_type": "code",
      "source": [
        "\n",
        "lr_schedule = tf.keras.optimizers.schedules.ExponentialDecay(\n",
        "    initial_learning_rate=1e-3,\n",
        "    decay_steps=1000,\n",
        "    decay_rate=0.9\n",
        ")\n",
        "\n",
        "model.compile(optimizer=tf.keras.optimizers.Adam(learning_rate=lr_schedule),\n",
        "              loss='binary_crossentropy',\n",
        "              metrics=['accuracy'])\n",
        "\n"
      ],
      "metadata": {
        "id": "rwQwQg2pQ9OM"
      },
      "execution_count": 9,
      "outputs": []
    },
    {
      "cell_type": "code",
      "source": [
        "history = model.fit(\n",
        "    generator,\n",
        "    steps_per_epoch=generator.samples // batch_size,\n",
        "    epochs=10,\n",
        ")"
      ],
      "metadata": {
        "colab": {
          "base_uri": "https://localhost:8080/"
        },
        "id": "BtPtO9oRQ-kX",
        "outputId": "5f088f47-ce12-4a40-8d0c-d515473903b3"
      },
      "execution_count": 10,
      "outputs": [
        {
          "output_type": "stream",
          "name": "stdout",
          "text": [
            "Epoch 1/10\n",
            "17/17 [==============================] - 138s 8s/step - loss: 0.5320 - accuracy: 0.7315\n",
            "Epoch 2/10\n",
            "17/17 [==============================] - 130s 8s/step - loss: 0.3763 - accuracy: 0.8259\n",
            "Epoch 3/10\n",
            "17/17 [==============================] - 127s 8s/step - loss: 0.3280 - accuracy: 0.8611\n",
            "Epoch 4/10\n",
            "17/17 [==============================] - 134s 8s/step - loss: 0.2896 - accuracy: 0.8889\n",
            "Epoch 5/10\n",
            "17/17 [==============================] - 130s 8s/step - loss: 0.2703 - accuracy: 0.8981\n",
            "Epoch 6/10\n",
            "17/17 [==============================] - 130s 8s/step - loss: 0.2539 - accuracy: 0.9074\n",
            "Epoch 7/10\n",
            "17/17 [==============================] - 130s 8s/step - loss: 0.2336 - accuracy: 0.9000\n",
            "Epoch 8/10\n",
            "17/17 [==============================] - 133s 8s/step - loss: 0.2308 - accuracy: 0.9148\n",
            "Epoch 9/10\n",
            "17/17 [==============================] - 128s 8s/step - loss: 0.2125 - accuracy: 0.9259\n",
            "Epoch 10/10\n",
            "17/17 [==============================] - 128s 7s/step - loss: 0.1979 - accuracy: 0.9278\n"
          ]
        }
      ]
    },
    {
      "cell_type": "code",
      "source": [
        "# Save the model\n",
        "model.save(\"/content/monkeypox_disease_model.h5\")\n",
        "# Prediction"
      ],
      "metadata": {
        "id": "ttJuJdPLQ_63"
      },
      "execution_count": 12,
      "outputs": []
    },
    {
      "cell_type": "code",
      "source": [
        "from tensorflow.keras.preprocessing import image\n",
        "\n",
        "def preprocess_image(image_path):\n",
        "    img = image.load_img(image_path, target_size=(150, 150))\n",
        "    img_array = image.img_to_array(img)\n",
        "    img_array = np.expand_dims(img_array, axis=0)\n",
        "    img_array /= 255.0\n",
        "    return img_array\n",
        "\n",
        "def predict_(model, image_path):\n",
        "    processed_image = preprocess_image(image_path)\n",
        "    prediction = model.predict(processed_image)\n",
        "    if prediction > 0.5:\n",
        "        return class_labels[0], prediction[0][0]\n",
        "    else:\n",
        "        return class_labels[1], 1 - prediction[0][0]\n",
        "\n",
        "image_path = '/content/drive/MyDrive/Monkeypox Skin Image Dataset/Normal/normal100.png'  # Replace with the actual path to your image\n",
        "predicted, confidence = predict_(model, image_path)\n",
        "print(\"Predicted Class:\", predicted)\n",
        "print(\"Confidence:\", confidence)"
      ],
      "metadata": {
        "colab": {
          "base_uri": "https://localhost:8080/"
        },
        "id": "k5gafAYpRBBP",
        "outputId": "9fd0cfb0-ebde-4a97-a905-7a8dea08c9a9"
      },
      "execution_count": 16,
      "outputs": [
        {
          "output_type": "stream",
          "name": "stdout",
          "text": [
            "1/1 [==============================] - 0s 219ms/step\n",
            "Predicted Class: Normal\n",
            "Confidence: 0.5705140829086304\n"
          ]
        }
      ]
    },
    {
      "cell_type": "code",
      "source": [],
      "metadata": {
        "id": "uh7qmA3sWqcr"
      },
      "execution_count": null,
      "outputs": []
    }
  ]
}